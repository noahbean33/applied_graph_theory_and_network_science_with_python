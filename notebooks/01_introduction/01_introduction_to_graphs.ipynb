{
 "cells": [
  {
   "cell_type": "markdown",
   "metadata": {},
   "source": [
    "# Introduction to Graphs and Networks\n",
    "## Learning Objectives\n",
    "By the end of this notebook, you will be able to:\n",
    "- Define what a graph is and identify its basic components\n",
    "- Differentiate between directed and undirected graphs\n",
    "- Understand weighted vs. unweighted graphs\n",
    "- Recognize real-world examples of networks\n",
    "- Use basic NetworkX functions to create and manipulate simple graphs"
   ]
  },
  {
   "cell_type": "markdown",
   "metadata": {},
   "source": [
    "## 1. What is a Graph?\n",
    "A graph is a collection of nodes (also called vertices) connected by edges. Graphs are used to represent networks of relationships between objects."
   ]
  },
  {
   "cell_type": "code",
   "execution_count": null,
   "metadata": {},
   "outputs": [],
   "source": [
    "import networkx as nx\n",
    "import matplotlib.pyplot as plt\n",
    "%matplotlib inline"
   ]
  },
  {
   "cell_type": "markdown",
   "metadata": {},
   "source": [
    "## 2. Creating a Simple Graph\n",
    "Let's create a simple undirected graph with 4 nodes and 4 edges."
   ]
  },
  {
   "cell_type": "code",
   "execution_count": null,
   "metadata": {},
   "outputs": [],
   "source": [
    "# Create an empty graph\n",
    "G = nx.Graph()\n",
    "\n",
    "# Add nodes\n",
    "G.add_nodes_from([1, 2, 3, 4])\n",
    "\n",
    "# Add edges\n",
    "G.add_edges_from([(1, 2), (2, 3), (3, 4), (4, 1)])\n",
    "\n",
    "# Draw the graph\n",
    "plt.figure(figsize=(6, 6))\n",
    "nx.draw_networkx(G, with_labels=True, node_color='lightblue', node_size=800, font_size=16)\n",
    "plt.axis('off')\n",
    "plt.show()"
   ]
  },
  {
   "cell_type": "markdown",
   "metadata": {},
   "source": [
    "## 3. Graph Types\n",
    "### Directed vs Undirected Graphs\n",
    "- **Undirected Graph**: Edges have no direction (two-way relationship)\n",
    "- **Directed Graph (Digraph)**: Edges have direction (one-way relationship)"
   ]
  },
  {
   "cell_type": "code",
   "execution_count": null,
   "metadata": {},
   "outputs": [],
   "source": [
    "# Create a directed graph\n",
    "DG = nx.DiGraph()\n",
    "DG.add_edges_from([(1, 2), (2, 3), (3, 4), (4, 1)])\n",
    "\n",
    "# Draw the directed graph\n",
    "plt.figure(figsize=(6, 6))\n",
    "nx.draw_networkx(DG, with_labels=True, node_color='lightgreen', node_size=800, \n",
    "                 font_size=16, arrows=True, arrowsize=20)\n",
    "plt.axis('off')\n",
    "plt.show()"
   ]
  },
  {
   "cell_type": "markdown",
   "metadata": {},
   "source": [
    "### Weighted vs Unweighted Graphs\n",
    "- **Unweighted Graph**: All edges have equal importance\n",
    "- **Weighted Graph**: Edges have weights representing their strength or cost"
   ]
  },
  {
   "cell_type": "code",
   "execution_count": null,
   "metadata": {},
   "outputs": [],
   "source": [
    "# Create a weighted graph\n",
    "WG = nx.Graph()\n",
    "WG.add_weighted_edges_from([(1, 2, 0.5), (2, 3, 1.5), (3, 4, 2.5), (4, 1, 1.0)])\n",
    "\n",
    "# Draw the weighted graph\n",
    "plt.figure(figsize=(8, 6))\n",
    "pos = nx.spring_layout(WG)\n",
    "nx.draw_networkx_nodes(WG, pos, node_color='lightcoral', node_size=800)\n",
    "nx.draw_networkx_edges(WG, pos, width=[d['weight']*2 for (u, v, d) in WG.edges(data=True)])\n",
    "nx.draw_networkx_labels(WG, pos, font_size=16)\n",
    
